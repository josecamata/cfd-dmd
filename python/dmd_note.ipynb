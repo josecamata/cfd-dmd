{
 "cells": [
  {
   "cell_type": "code",
   "execution_count": 36,
   "metadata": {},
   "outputs": [],
   "source": [
    "\n",
    "import matplotlib.pyplot as plt\n",
    "import numpy as np\n",
    "from python.dmd_class import DMD\n"
   ]
  },
  {
   "cell_type": "code",
   "execution_count": 37,
   "metadata": {},
   "outputs": [
    {
     "name": "stdout",
     "output_type": "stream",
     "text": [
      "[[ 0.  1.  2.  3.  4.  5.  6.  7.  8.]\n",
      " [ 1.  2.  3.  4.  5.  6.  7.  8.  9.]\n",
      " [ 2.  3.  4.  5.  6.  7.  8.  9. 10.]\n",
      " [ 3.  4.  5.  6.  7.  8.  9. 10. 11.]\n",
      " [ 4.  5.  6.  7.  8.  9. 10. 11. 12.]\n",
      " [ 5.  6.  7.  8.  9. 10. 11. 12. 13.]\n",
      " [ 6.  7.  8.  9. 10. 11. 12. 13. 14.]\n",
      " [ 7.  8.  9. 10. 11. 12. 13. 14. 15.]\n",
      " [ 8.  9. 10. 11. 12. 13. 14. 15. 16.]\n",
      " [ 9. 10. 11. 12. 13. 14. 15. 16. 17.]]\n"
     ]
    }
   ],
   "source": [
    "n = 10\n",
    "m = 9\n",
    "# Fit the DMD object to the data\n",
    "X = np.zeros((n, m))\n",
    "X.shape[0]\n",
    "\n",
    "for i in range(n):\n",
    "    for j in range(m):\n",
    "        X[i, j] = j + i\n",
    "\n",
    "print(X)\n"
   ]
  },
  {
   "cell_type": "code",
   "execution_count": 38,
   "metadata": {},
   "outputs": [
    {
     "ename": "AttributeError",
     "evalue": "'DMD' object has no attribute 'A_tilde'",
     "output_type": "error",
     "traceback": [
      "\u001b[0;31m---------------------------------------------------------------------------\u001b[0m",
      "\u001b[0;31mAttributeError\u001b[0m                            Traceback (most recent call last)",
      "\u001b[1;32m/home/camata/git/cfd-dmd/python/dmd_note.ipynb Cell 3\u001b[0m in \u001b[0;36m6\n\u001b[1;32m      <a href='vscode-notebook-cell:/home/camata/git/cfd-dmd/python/dmd_note.ipynb#W3sZmlsZQ%3D%3D?line=2'>3</a>\u001b[0m dmd\u001b[39m.\u001b[39mfit(X)\n\u001b[1;32m      <a href='vscode-notebook-cell:/home/camata/git/cfd-dmd/python/dmd_note.ipynb#W3sZmlsZQ%3D%3D?line=4'>5</a>\u001b[0m X1 \u001b[39m=\u001b[39m X[:, :\u001b[39m-\u001b[39m\u001b[39m1\u001b[39m]\n\u001b[0;32m----> <a href='vscode-notebook-cell:/home/camata/git/cfd-dmd/python/dmd_note.ipynb#W3sZmlsZQ%3D%3D?line=5'>6</a>\u001b[0m X2 \u001b[39m=\u001b[39m dmd\u001b[39m.\u001b[39;49mA_tilde \u001b[39m@\u001b[39m X1\n",
      "\u001b[0;31mAttributeError\u001b[0m: 'DMD' object has no attribute 'A_tilde'"
     ]
    }
   ],
   "source": [
    "# Create a DMD object\n",
    "dmd = DMD()\n",
    "dmd.fit(X)\n",
    "\n",
    "X1 = X[:, :-1]\n",
    "X2 = dmd.A @ X1\n",
    "\n",
    "\n",
    "\n"
   ]
  }
 ],
 "metadata": {
  "kernelspec": {
   "display_name": "Python 3",
   "language": "python",
   "name": "python3"
  },
  "language_info": {
   "codemirror_mode": {
    "name": "ipython",
    "version": 3
   },
   "file_extension": ".py",
   "mimetype": "text/x-python",
   "name": "python",
   "nbconvert_exporter": "python",
   "pygments_lexer": "ipython3",
   "version": "3.10.6"
  },
  "orig_nbformat": 4
 },
 "nbformat": 4,
 "nbformat_minor": 2
}
