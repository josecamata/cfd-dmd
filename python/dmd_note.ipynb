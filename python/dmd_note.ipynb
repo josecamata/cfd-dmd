{
 "cells": [
  {
   "cell_type": "code",
   "execution_count": 1,
   "metadata": {},
   "outputs": [],
   "source": [
    "import matplotlib.pyplot as plt\n",
    "import numpy as np\n",
    "from dmd_class import DMD\n",
    "import scipy.io "
   ]
  },
  {
   "cell_type": "code",
   "execution_count": 2,
   "metadata": {},
   "outputs": [
    {
     "name": "stdout",
     "output_type": "stream",
     "text": [
      "dict_keys(['__header__', '__version__', '__globals__', 'UALL', 'UEXTRA', 'VALL', 'VEXTRA', 'VORTALL', 'VORTEXTRA', 'm', 'n', 'nx', 'ny'])\n",
      "(89351, 151)\n"
     ]
    }
   ],
   "source": [
    "file_path = '../DATA/FLUIDS/CYLINDER_ALL.mat'\n",
    "mat = scipy.io.loadmat(file_path)\n",
    "print(mat.keys())\n",
    "print(mat['UALL'].shape)\n",
    "X = mat['UALL']\n"
   ]
  },
  {
   "cell_type": "code",
   "execution_count": 3,
   "metadata": {},
   "outputs": [
    {
     "name": "stdout",
     "output_type": "stream",
     "text": [
      "apos pinv\n",
      "apos A\n",
      "[1.01949396 1.01902051 1.01845852 ... 1.04747487 1.04880354 1.05031752]\n",
      "[1.01941204 1.01893859 1.01837658 ... 1.04626042 1.04759324 1.04910734]\n",
      "[1.01933173 1.01885826 1.01829624 ... 1.04507039 1.04640728 1.04792149]\n"
     ]
    }
   ],
   "source": [
    "# Create a DMD object\n",
    "dmd = DMD()\n",
    "dmd.fit(X)\n",
    "n_points,n_snapshots = X.shape\n"
   ]
  },
  {
   "cell_type": "code",
   "execution_count": 4,
   "metadata": {},
   "outputs": [
    {
     "name": "stdout",
     "output_type": "stream",
     "text": [
      "[1.01949396 1.01902051 1.01845852 ... 1.04747487 1.04880354 1.05031752]\n",
      "[1.01941204 1.01893859 1.01837658 ... 1.04626042 1.04759324 1.04910734]\n",
      "[1.01933173 1.01885826 1.01829624 ... 1.04507039 1.04640728 1.04792149]\n"
     ]
    }
   ],
   "source": [
    "X1 = X[:,n_snapshots-1]\n",
    "for t in range(n_snapshots,n_snapshots+3):\n",
    "    X2 = dmd.predict(X1)\n",
    "    print(X2.real)\n",
    "    X1 = X2"
   ]
  }
 ],
 "metadata": {
  "kernelspec": {
   "display_name": "Python 3",
   "language": "python",
   "name": "python3"
  },
  "language_info": {
   "codemirror_mode": {
    "name": "ipython",
    "version": 3
   },
   "file_extension": ".py",
   "mimetype": "text/x-python",
   "name": "python",
   "nbconvert_exporter": "python",
   "pygments_lexer": "ipython3",
   "version": "3.10.6"
  },
  "orig_nbformat": 4
 },
 "nbformat": 4,
 "nbformat_minor": 2
}
