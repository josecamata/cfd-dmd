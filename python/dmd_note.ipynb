{
 "cells": [
  {
   "cell_type": "code",
   "execution_count": 8,
   "metadata": {},
   "outputs": [],
   "source": [
    "\n",
    "import matplotlib.pyplot as plt\n",
    "import numpy as np\n",
    "from dmd_class import DMD\n"
   ]
  },
  {
   "cell_type": "code",
   "execution_count": 9,
   "metadata": {},
   "outputs": [
    {
     "name": "stdout",
     "output_type": "stream",
     "text": [
      "[[ 0.  1.  2.  3.  4.  5.  6.  7.  8.]\n",
      " [ 1.  2.  3.  4.  5.  6.  7.  8.  9.]\n",
      " [ 2.  3.  4.  5.  6.  7.  8.  9. 10.]\n",
      " [ 3.  4.  5.  6.  7.  8.  9. 10. 11.]\n",
      " [ 4.  5.  6.  7.  8.  9. 10. 11. 12.]\n",
      " [ 5.  6.  7.  8.  9. 10. 11. 12. 13.]\n",
      " [ 6.  7.  8.  9. 10. 11. 12. 13. 14.]\n",
      " [ 7.  8.  9. 10. 11. 12. 13. 14. 15.]\n",
      " [ 8.  9. 10. 11. 12. 13. 14. 15. 16.]\n",
      " [ 9. 10. 11. 12. 13. 14. 15. 16. 17.]]\n"
     ]
    }
   ],
   "source": [
    "## Creating a toy problem\n",
    "\n",
    "n_points    = 10\n",
    "n_snapshots = 9\n",
    "\n",
    "# Fit the DMD object to the data\n",
    "X = np.zeros((n_points, n_snapshots))\n",
    "\n",
    "for s in range(n_snapshots):\n",
    "    for p in range(n_points):\n",
    "        X[p, s] = p + s\n",
    "\n",
    "print(X)\n"
   ]
  },
  {
   "cell_type": "code",
   "execution_count": 10,
   "metadata": {},
   "outputs": [
    {
     "name": "stdout",
     "output_type": "stream",
     "text": [
      "[ 9. 10. 11. 12. 13. 14. 15. 16. 17. 18.]\n",
      "[10. 11. 12. 13. 14. 15. 16. 17. 18. 19.]\n",
      "[11. 12. 13. 14. 15. 16. 17. 18. 19. 20.]\n"
     ]
    }
   ],
   "source": [
    "# Create a DMD object\n",
    "dmd = DMD()\n",
    "dmd.fit(X)\n",
    "\n",
    "X1 = X[:,n_snapshots-1]\n",
    "for t in range(n_snapshots,n_snapshots+3):\n",
    "    X2 = dmd.predict(X1)\n",
    "    print(X2.real)\n",
    "    X1 = X2\n",
    "\n",
    "\n"
   ]
  }
 ],
 "metadata": {
  "kernelspec": {
   "display_name": "Python 3",
   "language": "python",
   "name": "python3"
  },
  "language_info": {
   "codemirror_mode": {
    "name": "ipython",
    "version": 3
   },
   "file_extension": ".py",
   "mimetype": "text/x-python",
   "name": "python",
   "nbconvert_exporter": "python",
   "pygments_lexer": "ipython3",
   "version": "3.10.6"
  },
  "orig_nbformat": 4
 },
 "nbformat": 4,
 "nbformat_minor": 2
}
